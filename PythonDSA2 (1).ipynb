{
 "cells": [
  {
   "cell_type": "code",
   "execution_count": 5,
   "metadata": {},
   "outputs": [
    {
     "name": "stdout",
     "output_type": "stream",
     "text": [
      "12 8 144 "
     ]
    }
   ],
   "source": [
    "list1=[12,3,55,8,144]\n",
    "\n",
    "for num in list1:\n",
    "    if num%2==0:\n",
    "        print(num,end=\" \")"
   ]
  },
  {
   "cell_type": "code",
   "execution_count": 6,
   "metadata": {},
   "outputs": [
    {
     "name": "stdout",
     "output_type": "stream",
     "text": [
      "2 10 "
     ]
    }
   ],
   "source": [
    "list1=[2,10,9,37]\n",
    "\n",
    "for num in list1:\n",
    "    if num%2==0:\n",
    "        print(num,end=\" \")"
   ]
  },
  {
   "cell_type": "code",
   "execution_count": 15,
   "metadata": {},
   "outputs": [
    {
     "name": "stdout",
     "output_type": "stream",
     "text": [
      "Enter the numbers:5\n",
      "     1\n",
      "    22\n",
      "   333\n",
      "  4444\n",
      " 55555\n"
     ]
    }
   ],
   "source": [
    "n=int(input(\"Enter the numbers:\"))\n",
    "for i in range(1,n+1):\n",
    "        print(\" \"*(n-i),str(i)*i)"
   ]
  },
  {
   "cell_type": "code",
   "execution_count": null,
   "metadata": {},
   "outputs": [],
   "source": []
  }
 ],
 "metadata": {
  "kernelspec": {
   "display_name": "Python 3",
   "language": "python",
   "name": "python3"
  },
  "language_info": {
   "codemirror_mode": {
    "name": "ipython",
    "version": 3
   },
   "file_extension": ".py",
   "mimetype": "text/x-python",
   "name": "python",
   "nbconvert_exporter": "python",
   "pygments_lexer": "ipython3",
   "version": "3.8.5"
  }
 },
 "nbformat": 4,
 "nbformat_minor": 4
}
